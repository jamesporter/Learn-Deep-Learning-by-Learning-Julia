{
 "cells": [
  {
   "cell_type": "markdown",
   "metadata": {},
   "source": [
    "Everyone wants to make learning deep learning easier... what if we try to learn two things at once to keep it more interesting?"
   ]
  },
  {
   "cell_type": "markdown",
   "metadata": {},
   "source": [
    "## 1 Assumptions\n",
    "\n",
    "* You already know a programming language like Python, R or Javascript\n",
    "* You know basic linear algebra\n",
    "* Have installed [Anaconda](https://www.anaconda.com/) (easy way to get Jupyter + deps)\n",
    "* Have installed [Julia 1.1](https://julialang.org/)\n",
    "\n",
    "Then\n",
    "\n",
    "* Start with `jupyter notebook`\n",
    "* Open this or create a new Julia 1.1. notebook.\n",
    "\n",
    "Jupyter notebook has two modes: edit and command. Esc enters command mode from edit mode. Enter does the opposite. Print this [cheat sheet](jupyter-shortcuts.pdf) (for Mac) or hit `h` in command mode to see shortcuts."
   ]
  },
  {
   "cell_type": "markdown",
   "metadata": {},
   "source": [
    "## 2 Basic Julia\n",
    "\n",
    "(It works mostly like you'd expect)"
   ]
  },
  {
   "cell_type": "code",
   "execution_count": 1,
   "metadata": {},
   "outputs": [
    {
     "name": "stdout",
     "output_type": "stream",
     "text": [
      "hello world"
     ]
    }
   ],
   "source": [
    "print(\"hello world\")"
   ]
  },
  {
   "cell_type": "code",
   "execution_count": 2,
   "metadata": {},
   "outputs": [
    {
     "data": {
      "text/plain": [
       "7"
      ]
     },
     "execution_count": 2,
     "metadata": {},
     "output_type": "execute_result"
    }
   ],
   "source": [
    "4 + 3"
   ]
  },
  {
   "cell_type": "markdown",
   "metadata": {},
   "source": [
    "Julia has support for concise/clear definition of functions."
   ]
  },
  {
   "cell_type": "code",
   "execution_count": 4,
   "metadata": {},
   "outputs": [
    {
     "data": {
      "text/plain": [
       "6"
      ]
     },
     "execution_count": 4,
     "metadata": {},
     "output_type": "execute_result"
    }
   ],
   "source": [
    "f(x) = x + 1\n",
    "f(5)"
   ]
  },
  {
   "cell_type": "markdown",
   "metadata": {},
   "source": [
    "And anonymous functions"
   ]
  },
  {
   "cell_type": "code",
   "execution_count": 24,
   "metadata": {},
   "outputs": [
    {
     "data": {
      "text/plain": [
       "#3 (generic function with 1 method)"
      ]
     },
     "execution_count": 24,
     "metadata": {},
     "output_type": "execute_result"
    }
   ],
   "source": [
    "x -> x + 1"
   ]
  },
  {
   "cell_type": "markdown",
   "metadata": {},
   "source": [
    "Julia has built in support for maths on vectors (e.g. elementwise ops use a . in front of standard operator) and a nice syntax for doing vectors and matrices"
   ]
  },
  {
   "cell_type": "code",
   "execution_count": 26,
   "metadata": {},
   "outputs": [
    {
     "data": {
      "text/plain": [
       "1×3 Array{Int64,2}:\n",
       " 3  8  15"
      ]
     },
     "execution_count": 26,
     "metadata": {},
     "output_type": "execute_result"
    }
   ],
   "source": [
    "[1 2 3] .* [3 4 5]"
   ]
  },
  {
   "cell_type": "code",
   "execution_count": 27,
   "metadata": {},
   "outputs": [
    {
     "data": {
      "text/plain": [
       "2×2 Array{Int64,2}:\n",
       " 1  2\n",
       " 4  5"
      ]
     },
     "execution_count": 27,
     "metadata": {},
     "output_type": "execute_result"
    }
   ],
   "source": [
    "[1 2; 4 5]"
   ]
  },
  {
   "cell_type": "code",
   "execution_count": 28,
   "metadata": {},
   "outputs": [
    {
     "data": {
      "text/plain": [
       "2×2 Array{Int64,2}:\n",
       " 2   6\n",
       " 1  14"
      ]
     },
     "execution_count": 28,
     "metadata": {},
     "output_type": "execute_result"
    }
   ],
   "source": [
    "[1 3; 6 7] * [-1 0; 1 2]"
   ]
  },
  {
   "cell_type": "markdown",
   "metadata": {},
   "source": [
    "Julia has the awesome pipeline operator `|>` for clearly combining functions. No(ridiculous(nested(brackets))). Take an input pass it to a function, then pass output to next function and so on. Even Javascript is (hopefully) [adding this](https://github.com/tc39/proposal-pipeline-operator)"
   ]
  },
  {
   "cell_type": "code",
   "execution_count": 25,
   "metadata": {},
   "outputs": [
    {
     "data": {
      "text/plain": [
       "14"
      ]
     },
     "execution_count": 25,
     "metadata": {},
     "output_type": "execute_result"
    }
   ],
   "source": [
    "5 |> f |> f |> x -> x * 2 "
   ]
  },
  {
   "cell_type": "markdown",
   "metadata": {},
   "source": [
    "## 3 A very simple neural network\n",
    "\n",
    "Neural networks basically take an input of some numbers and produce an output of some numbers."
   ]
  },
  {
   "cell_type": "code",
   "execution_count": 8,
   "metadata": {},
   "outputs": [],
   "source": [
    "using LinearAlgebra"
   ]
  },
  {
   "cell_type": "code",
   "execution_count": 16,
   "metadata": {},
   "outputs": [
    {
     "data": {
      "text/plain": [
       "0.12000000000000001"
      ]
     },
     "execution_count": 16,
     "metadata": {},
     "output_type": "execute_result"
    }
   ],
   "source": [
    "function simple_nn(input)\n",
    "   dot(input, [0.1 0.3 0.2]) \n",
    "end\n",
    "\n",
    "\n",
    "simple_nn([0.4 0.2 0.1])"
   ]
  },
  {
   "cell_type": "markdown",
   "metadata": {},
   "source": [
    "Yes, it is just a weighted sum (dot product of some input with some hardcoded values). The input could be some observed characteristics and the output a prediction of membership of a group. \n",
    "\n",
    "We can also do a multi-input, multi-output network (yes this is just matrix multiplication):"
   ]
  },
  {
   "cell_type": "code",
   "execution_count": 20,
   "metadata": {},
   "outputs": [
    {
     "data": {
      "text/plain": [
       "1×3 Array{Float64,2}:\n",
       " 0.13  0.1  0.16"
      ]
     },
     "execution_count": 20,
     "metadata": {},
     "output_type": "execute_result"
    }
   ],
   "source": [
    "function simple_nn2(input)\n",
    "   input * [0.1 0.2 0.3; 0.4 -0.1 0.1; 0.1 0.4 0.2] \n",
    "end\n",
    "\n",
    "simple_nn2([0.4 0.2 0.1])"
   ]
  },
  {
   "cell_type": "markdown",
   "metadata": {},
   "source": [
    "Typically we will stack multiple neural networks. Let's combine the two we have used so far (using the pipeline operator for clarity):"
   ]
  },
  {
   "cell_type": "code",
   "execution_count": 23,
   "metadata": {},
   "outputs": [
    {
     "data": {
      "text/plain": [
       "0.07"
      ]
     },
     "execution_count": 23,
     "metadata": {},
     "output_type": "execute_result"
    }
   ],
   "source": [
    "[0.1 0.2 0.3] |> simple_nn2 |> simple_nn"
   ]
  },
  {
   "cell_type": "markdown",
   "metadata": {},
   "source": [
    "## 4 Gradient Descent (i)\n",
    "\n",
    "So we can make very simple neural networks. But how do they learn? How do we update the weights? We'll start with a very simple gradient descent process for a trivial model."
   ]
  },
  {
   "cell_type": "code",
   "execution_count": 29,
   "metadata": {},
   "outputs": [
    {
     "data": {
      "text/plain": [
       "prediction (generic function with 1 method)"
      ]
     },
     "execution_count": 29,
     "metadata": {},
     "output_type": "execute_result"
    }
   ],
   "source": [
    "prediction(x, weight) = x * weight"
   ]
  },
  {
   "cell_type": "markdown",
   "metadata": {},
   "source": [
    "We want a way of calculating the error. A standard approach is Mean Squared Error (mse)"
   ]
  },
  {
   "cell_type": "code",
   "execution_count": 36,
   "metadata": {},
   "outputs": [
    {
     "data": {
      "text/plain": [
       "mse (generic function with 1 method)"
      ]
     },
     "execution_count": 36,
     "metadata": {},
     "output_type": "execute_result"
    }
   ],
   "source": [
    "mse(pred, actual) = (pred * actual) ^ 2"
   ]
  },
  {
   "cell_type": "code",
   "execution_count": 65,
   "metadata": {},
   "outputs": [
    {
     "data": {
      "text/plain": [
       "0.004096"
      ]
     },
     "execution_count": 65,
     "metadata": {},
     "output_type": "execute_result"
    }
   ],
   "source": [
    "input = 0.4\n",
    "goal = 0.32\n",
    "weight = 0.5 # 'correct' weight is 0.8, want to learn this\n",
    "\n",
    "p = prediction(input, weight)\n",
    "mse(p, goal)"
   ]
  },
  {
   "cell_type": "markdown",
   "metadata": {},
   "source": [
    "Okay so we have an error for this trivial, fake situation. But how would we update the weight to improve (reduce the error)? Let's multiply the absolute error by the input."
   ]
  },
  {
   "cell_type": "code",
   "execution_count": 66,
   "metadata": {},
   "outputs": [
    {
     "data": {
      "text/plain": [
       "-0.048"
      ]
     },
     "execution_count": 66,
     "metadata": {},
     "output_type": "execute_result"
    }
   ],
   "source": [
    "abserr_times_input = (p - goal) * input\n",
    "abserr_times_input"
   ]
  },
  {
   "cell_type": "markdown",
   "metadata": {},
   "source": [
    "Now let's adjust the weights:"
   ]
  },
  {
   "cell_type": "code",
   "execution_count": 67,
   "metadata": {},
   "outputs": [
    {
     "data": {
      "text/plain": [
       "0.548"
      ]
     },
     "execution_count": 67,
     "metadata": {},
     "output_type": "execute_result"
    }
   ],
   "source": [
    "new_weight = weight - abserr_times_input"
   ]
  },
  {
   "cell_type": "code",
   "execution_count": 68,
   "metadata": {},
   "outputs": [
    {
     "data": {
      "text/plain": [
       "0.004920180736000002"
      ]
     },
     "execution_count": 68,
     "metadata": {},
     "output_type": "execute_result"
    }
   ],
   "source": [
    "input = 0.4\n",
    "\n",
    "p2 = prediction(input, new_weight)\n",
    "mse(p2, goal)"
   ]
  },
  {
   "cell_type": "markdown",
   "metadata": {},
   "source": [
    "Let's try iterating"
   ]
  },
  {
   "cell_type": "code",
   "execution_count": 72,
   "metadata": {},
   "outputs": [
    {
     "name": "stdout",
     "output_type": "stream",
     "text": [
      "(1) Weight 0.6488 MSE 0.006896704552960001\n",
      "(2) Weight 0.70928 MSE 0.008242431891865602\n",
      "(3) Weight 0.745568 MSE 0.009107400992751617\n",
      "(4) Weight 0.7673407999999999 MSE 0.009647094224398581\n",
      "(5) Weight 0.78040448 MSE 0.009978366400988288\n",
      "(6) Weight 0.788242688 MSE 0.010179813952478665\n",
      "(7) Weight 0.7929456128 MSE 0.010301648811766049\n",
      "(8) Weight 0.7957673676799999 MSE 0.010375097605560012\n",
      "(9) Weight 0.7974604206079999 MSE 0.010419292117996146\n",
      "(10) Weight 0.7984762523647999 MSE 0.010445853910475337\n"
     ]
    }
   ],
   "source": [
    "w = new_weight\n",
    "\n",
    "for i = 1:10\n",
    "    p = prediction(input, w)\n",
    "    delta = (p - goal)\n",
    "    w -= delta\n",
    "    np = prediction(input, w)\n",
    "    print(\"($(i)) Weight $(w) MSE $(mse(np, goal))\\n\")\n",
    "end"
   ]
  },
  {
   "cell_type": "markdown",
   "metadata": {},
   "source": [
    "As you can see at each step we are reducing the error and getting close to the correct solution"
   ]
  },
  {
   "cell_type": "code",
   "execution_count": null,
   "metadata": {},
   "outputs": [],
   "source": []
  }
 ],
 "metadata": {
  "kernelspec": {
   "display_name": "Julia 1.1.0",
   "language": "julia",
   "name": "julia-1.1"
  },
  "language_info": {
   "file_extension": ".jl",
   "mimetype": "application/julia",
   "name": "julia",
   "version": "1.1.0"
  }
 },
 "nbformat": 4,
 "nbformat_minor": 2
}
