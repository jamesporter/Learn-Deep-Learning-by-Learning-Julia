{
 "cells": [
  {
   "cell_type": "markdown",
   "metadata": {},
   "source": [
    "# Learn Deep Learning by Learning Julia\n",
    "\n",
    "Everyone wants to make learning deep learning easier... what if we try to learn two things at once to keep it more interesting? This notebook teaches deep learning from the basics up, while teaching the required bits of the Julia programming language. I try to keep things as practical/concrete as possible, but where I think it is much clearer to use some mathematical notation I do.\n",
    "\n",
    "While Python is by the far the most popular language for doing deep learning it is in many ways a very poor choice (of language, the ecosystem is amazing) as it has a very weak type system and relatively poor performance.\n",
    "\n",
    "Julia gives us a more modern language, better performance and has some relevant super powers with respect to deep learning: we can write high level Julia code and both be able to automatically get gradients for functions (a key part of deep learning) and run it on GPUs (key for performance)."
   ]
  },
  {
   "cell_type": "markdown",
   "metadata": {},
   "source": [
    "## 1 Assumptions\n",
    "\n",
    "* You already know a programming language like Python, R or Javascript\n",
    "* You know basic linear algebra\n",
    "* Have installed [Anaconda](https://www.anaconda.com/) (easy way to get Jupyter + deps)\n",
    "* Have installed [Julia 1.1](https://julialang.org/)\n",
    "\n",
    "Then\n",
    "\n",
    "* Start with `jupyter notebook`\n",
    "* Open this or create a new Julia 1.1. notebook.\n",
    "\n",
    "Jupyter notebook has two modes: edit and command. Esc enters command mode from edit mode. Enter does the opposite. Print this [cheat sheet](jupyter-shortcuts.pdf) (for Mac) or hit `h` in command mode to see shortcuts."
   ]
  },
  {
   "cell_type": "markdown",
   "metadata": {},
   "source": [
    "## 2 Basic Julia\n",
    "\n",
    "(It works mostly like you'd expect)"
   ]
  },
  {
   "cell_type": "code",
   "execution_count": 1,
   "metadata": {},
   "outputs": [
    {
     "name": "stdout",
     "output_type": "stream",
     "text": [
      "hello world"
     ]
    }
   ],
   "source": [
    "print(\"hello world\")"
   ]
  },
  {
   "cell_type": "code",
   "execution_count": 2,
   "metadata": {},
   "outputs": [
    {
     "data": {
      "text/plain": [
       "7"
      ]
     },
     "execution_count": 2,
     "metadata": {},
     "output_type": "execute_result"
    }
   ],
   "source": [
    "4 + 3"
   ]
  },
  {
   "cell_type": "markdown",
   "metadata": {},
   "source": [
    "Julia has support for concise/clear definition of functions."
   ]
  },
  {
   "cell_type": "code",
   "execution_count": 3,
   "metadata": {},
   "outputs": [
    {
     "data": {
      "text/plain": [
       "6"
      ]
     },
     "execution_count": 3,
     "metadata": {},
     "output_type": "execute_result"
    }
   ],
   "source": [
    "f(x) = x + 1\n",
    "f(5)"
   ]
  },
  {
   "cell_type": "markdown",
   "metadata": {},
   "source": [
    "And anonymous functions"
   ]
  },
  {
   "cell_type": "code",
   "execution_count": 4,
   "metadata": {},
   "outputs": [
    {
     "data": {
      "text/plain": [
       "#3 (generic function with 1 method)"
      ]
     },
     "execution_count": 4,
     "metadata": {},
     "output_type": "execute_result"
    }
   ],
   "source": [
    "x -> x + 1"
   ]
  },
  {
   "cell_type": "markdown",
   "metadata": {},
   "source": [
    "Julia has built in support for maths on vectors (e.g. elementwise ops use a . in front of standard operator) and a nice syntax for doing vectors and matrices"
   ]
  },
  {
   "cell_type": "code",
   "execution_count": 5,
   "metadata": {},
   "outputs": [
    {
     "data": {
      "text/plain": [
       "1×3 Array{Int64,2}:\n",
       " 3  8  15"
      ]
     },
     "execution_count": 5,
     "metadata": {},
     "output_type": "execute_result"
    }
   ],
   "source": [
    "[1 2 3] .* [3 4 5]"
   ]
  },
  {
   "cell_type": "code",
   "execution_count": 6,
   "metadata": {},
   "outputs": [
    {
     "data": {
      "text/plain": [
       "2×2 Array{Int64,2}:\n",
       " 1  2\n",
       " 4  5"
      ]
     },
     "execution_count": 6,
     "metadata": {},
     "output_type": "execute_result"
    }
   ],
   "source": [
    "[1 2; 4 5]"
   ]
  },
  {
   "cell_type": "code",
   "execution_count": 7,
   "metadata": {},
   "outputs": [
    {
     "data": {
      "text/plain": [
       "2×2 Array{Int64,2}:\n",
       " 2   6\n",
       " 1  14"
      ]
     },
     "execution_count": 7,
     "metadata": {},
     "output_type": "execute_result"
    }
   ],
   "source": [
    "[1 3; 6 7] * [-1 0; 1 2]"
   ]
  },
  {
   "cell_type": "markdown",
   "metadata": {},
   "source": [
    "Julia starts indexing from 1, which is way more standard in mathematics/science than the 0 based indexing you may be used to from most programming languages"
   ]
  },
  {
   "cell_type": "code",
   "execution_count": 105,
   "metadata": {},
   "outputs": [
    {
     "data": {
      "text/plain": [
       "1"
      ]
     },
     "execution_count": 105,
     "metadata": {},
     "output_type": "execute_result"
    }
   ],
   "source": [
    "[1,2,3][1]"
   ]
  },
  {
   "cell_type": "markdown",
   "metadata": {},
   "source": [
    "Julia has the awesome pipeline operator `|>` for clearly combining functions. No(ridiculous(nested(brackets))). Take an input pass it to a function, then pass output to next function and so on. Even Javascript is (hopefully) [adding this](https://github.com/tc39/proposal-pipeline-operator)"
   ]
  },
  {
   "cell_type": "code",
   "execution_count": 8,
   "metadata": {},
   "outputs": [
    {
     "data": {
      "text/plain": [
       "14"
      ]
     },
     "execution_count": 8,
     "metadata": {},
     "output_type": "execute_result"
    }
   ],
   "source": [
    "5 |> f |> f |> x -> x * 2 "
   ]
  },
  {
   "cell_type": "markdown",
   "metadata": {},
   "source": [
    "## 3 A very simple neural network\n",
    "\n",
    "Neural networks basically take an input of some numbers and produce an output of some numbers.\n",
    "\n",
    "To use packages in Julia we use `using` to import"
   ]
  },
  {
   "cell_type": "code",
   "execution_count": 9,
   "metadata": {},
   "outputs": [],
   "source": [
    "using LinearAlgebra"
   ]
  },
  {
   "cell_type": "code",
   "execution_count": 10,
   "metadata": {},
   "outputs": [
    {
     "data": {
      "text/plain": [
       "0.12000000000000001"
      ]
     },
     "execution_count": 10,
     "metadata": {},
     "output_type": "execute_result"
    }
   ],
   "source": [
    "function simple_nn(input)\n",
    "   dot(input, [0.1 0.3 0.2]) \n",
    "end\n",
    "\n",
    "\n",
    "simple_nn([0.4 0.2 0.1])"
   ]
  },
  {
   "cell_type": "markdown",
   "metadata": {},
   "source": [
    "Yes, it is just a weighted sum (dot product of some input with some hardcoded values). The input could be some observed characteristics and the output a prediction of membership of a group. \n",
    "\n",
    "We can also do a multi-input, multi-output network (yes this is just matrix multiplication):"
   ]
  },
  {
   "cell_type": "code",
   "execution_count": 11,
   "metadata": {},
   "outputs": [
    {
     "data": {
      "text/plain": [
       "1×3 Array{Float64,2}:\n",
       " 0.13  0.1  0.16"
      ]
     },
     "execution_count": 11,
     "metadata": {},
     "output_type": "execute_result"
    }
   ],
   "source": [
    "function simple_nn2(input)\n",
    "   input * [0.1 0.2 0.3; 0.4 -0.1 0.1; 0.1 0.4 0.2] \n",
    "end\n",
    "\n",
    "simple_nn2([0.4 0.2 0.1])"
   ]
  },
  {
   "cell_type": "markdown",
   "metadata": {},
   "source": [
    "Typically we will stack multiple neural networks. Let's combine the two we have used so far (using the pipeline operator for clarity):"
   ]
  },
  {
   "cell_type": "code",
   "execution_count": 12,
   "metadata": {},
   "outputs": [
    {
     "data": {
      "text/plain": [
       "0.07"
      ]
     },
     "execution_count": 12,
     "metadata": {},
     "output_type": "execute_result"
    }
   ],
   "source": [
    "[0.1 0.2 0.3] |> simple_nn2 |> simple_nn"
   ]
  },
  {
   "cell_type": "markdown",
   "metadata": {},
   "source": [
    "## 4 Gradient Descent (i): a simple way to learn\n",
    "\n",
    "So we can make very simple neural networks. But how do they learn? How do we update the weights? We'll start with a very simple gradient descent process for a trivial model."
   ]
  },
  {
   "cell_type": "code",
   "execution_count": 13,
   "metadata": {},
   "outputs": [
    {
     "data": {
      "text/plain": [
       "prediction (generic function with 1 method)"
      ]
     },
     "execution_count": 13,
     "metadata": {},
     "output_type": "execute_result"
    }
   ],
   "source": [
    "prediction(x, weight) = x * weight"
   ]
  },
  {
   "cell_type": "markdown",
   "metadata": {},
   "source": [
    "We want a way of calculating the error. A standard approach is Mean Squared Error (mse)"
   ]
  },
  {
   "cell_type": "code",
   "execution_count": 26,
   "metadata": {},
   "outputs": [
    {
     "data": {
      "text/plain": [
       "mse (generic function with 1 method)"
      ]
     },
     "execution_count": 26,
     "metadata": {},
     "output_type": "execute_result"
    }
   ],
   "source": [
    "mse(pred, actual) = (pred - actual) ^ 2"
   ]
  },
  {
   "cell_type": "code",
   "execution_count": 27,
   "metadata": {},
   "outputs": [
    {
     "data": {
      "text/plain": [
       "0.0144"
      ]
     },
     "execution_count": 27,
     "metadata": {},
     "output_type": "execute_result"
    }
   ],
   "source": [
    "input = 0.4\n",
    "goal = 0.32\n",
    "weight = 0.5 # 'correct' weight is 0.8, want to learn this\n",
    "\n",
    "p = prediction(input, weight)\n",
    "mse(p, goal)"
   ]
  },
  {
   "cell_type": "markdown",
   "metadata": {},
   "source": [
    "Okay so we have an error for this trivial, fake situation. But how would we update the weight to improve (reduce the error)? Let's multiply the absolute error by the input."
   ]
  },
  {
   "cell_type": "code",
   "execution_count": 22,
   "metadata": {},
   "outputs": [
    {
     "data": {
      "text/plain": [
       "-0.048"
      ]
     },
     "execution_count": 22,
     "metadata": {},
     "output_type": "execute_result"
    }
   ],
   "source": [
    "abserr_times_input = (p - goal) * input\n",
    "abserr_times_input"
   ]
  },
  {
   "cell_type": "markdown",
   "metadata": {},
   "source": [
    "Now let's adjust the weights:"
   ]
  },
  {
   "cell_type": "code",
   "execution_count": 23,
   "metadata": {},
   "outputs": [
    {
     "data": {
      "text/plain": [
       "0.548"
      ]
     },
     "execution_count": 23,
     "metadata": {},
     "output_type": "execute_result"
    }
   ],
   "source": [
    "new_weight = weight - abserr_times_input"
   ]
  },
  {
   "cell_type": "code",
   "execution_count": 24,
   "metadata": {},
   "outputs": [
    {
     "data": {
      "text/plain": [
       "0.010160639999999995"
      ]
     },
     "execution_count": 24,
     "metadata": {},
     "output_type": "execute_result"
    }
   ],
   "source": [
    "input = 0.4\n",
    "\n",
    "p2 = prediction(input, new_weight)\n",
    "mse(p2, goal)"
   ]
  },
  {
   "cell_type": "markdown",
   "metadata": {},
   "source": [
    "Let's try iterating"
   ]
  },
  {
   "cell_type": "code",
   "execution_count": 33,
   "metadata": {},
   "outputs": [
    {
     "name": "stdout",
     "output_type": "stream",
     "text": [
      "(1) Weight 0.6488 MSE 0.0036578303999999975\n",
      "(2) Weight 0.70928 MSE 0.001316818943999999\n",
      "(3) Weight 0.745568 MSE 0.0004740548198399992\n",
      "(4) Weight 0.7673407999999999 MSE 0.00017065973514240057\n",
      "(5) Weight 0.78040448 MSE 6.14375046512642e-5\n",
      "(6) Weight 0.788242688 MSE 2.2117501674455113e-5\n",
      "(7) Weight 0.7929456128 MSE 7.962300602803653e-6\n",
      "(8) Weight 0.7957673676799999 MSE 2.8664282170095032e-6\n",
      "(9) Weight 0.7974604206079999 MSE 1.0319141581234438e-6\n",
      "(10) Weight 0.7984762523647999 MSE 3.7148909692445324e-7\n"
     ]
    }
   ],
   "source": [
    "w = new_weight\n",
    "\n",
    "for i = 1:10\n",
    "    p = prediction(input, w)\n",
    "    delta = (p - goal)\n",
    "    w -= delta\n",
    "    np = prediction(input, w)\n",
    "    print(\"($(i)) Weight $(w) MSE $(mse(np, goal))\\n\")\n",
    "end"
   ]
  },
  {
   "cell_type": "markdown",
   "metadata": {},
   "source": [
    "As you can see at each step we are reducing the error and getting close to the correct solution"
   ]
  },
  {
   "cell_type": "markdown",
   "metadata": {},
   "source": [
    "## 5 Gradient Descent (ii): using derivatives\n",
    "\n",
    "Okay so what are we really doing? **Gradient descent works by making a series of steps. In each step we subtract a scaled partial derivative of the error from each of the current parameters.** (Subtracting means we should be moving in the right direction, scaling that we hopefully aren't overshooting the optimal value.)\n",
    "\n",
    "In the above example our model has just one parameter (the weight), so we just take a standard derivative.\n",
    "\n",
    "$mse(w) = (0.4 w - 0.32) ^2$\n",
    "$mse(w) = (0.16 w^2 - 0.256 w + 0.1024)$\n",
    "\n",
    "So differentiating:\n",
    "\n",
    "$\\frac{dmse(w)}{dw} = 0.32w - 0.256$\n"
   ]
  },
  {
   "cell_type": "code",
   "execution_count": 54,
   "metadata": {},
   "outputs": [
    {
     "data": {
      "text/plain": [
       "dmse (generic function with 1 method)"
      ]
     },
     "execution_count": 54,
     "metadata": {},
     "output_type": "execute_result"
    }
   ],
   "source": [
    "dmse(w) = 0.32 * w - 0.256"
   ]
  },
  {
   "cell_type": "markdown",
   "metadata": {},
   "source": [
    "This is the slope of the mean squared error. Let's see what this looks like (if you already have Plots installed skip)."
   ]
  },
  {
   "cell_type": "code",
   "execution_count": 92,
   "metadata": {},
   "outputs": [
    {
     "name": "stdout",
     "output_type": "stream",
     "text": [
      "\u001b[32m\u001b[1m Resolving\u001b[22m\u001b[39m package versions...\n",
      "\u001b[32m\u001b[1m  Updating\u001b[22m\u001b[39m `~/.julia/environments/v1.1/Project.toml`\n",
      "\u001b[90m [no changes]\u001b[39m\n",
      "\u001b[32m\u001b[1m  Updating\u001b[22m\u001b[39m `~/.julia/environments/v1.1/Manifest.toml`\n",
      "\u001b[90m [no changes]\u001b[39m\n",
      "\u001b[32m\u001b[1m Resolving\u001b[22m\u001b[39m package versions...\n",
      "\u001b[32m\u001b[1m  Updating\u001b[22m\u001b[39m `~/.julia/environments/v1.1/Project.toml`\n",
      "\u001b[90m [no changes]\u001b[39m\n",
      "\u001b[32m\u001b[1m  Updating\u001b[22m\u001b[39m `~/.julia/environments/v1.1/Manifest.toml`\n",
      "\u001b[90m [no changes]\u001b[39m\n"
     ]
    }
   ],
   "source": [
    "using Pkg\n",
    "Pkg.add(\"Plots\")\n",
    "Pkg.add(\"PyPlot\")"
   ]
  },
  {
   "cell_type": "code",
   "execution_count": 93,
   "metadata": {},
   "outputs": [],
   "source": [
    "using Plots"
   ]
  },
  {
   "cell_type": "code",
   "execution_count": 103,
   "metadata": {},
   "outputs": [
    {
     "data": {
      "text/plain": [
       "Plots.PyPlotBackend()"
      ]
     },
     "execution_count": 103,
     "metadata": {},
     "output_type": "execute_result"
    }
   ],
   "source": [
    "# using the Python PyPlot backend as it seems to work reliably with Jupyter\n",
    "Plots.pyplot()"
   ]
  },
  {
   "cell_type": "code",
   "execution_count": 104,
   "metadata": {},
   "outputs": [
    {
     "data": {
      "image/png": "[encoded data removed]"
     },
     "execution_count": 104,
     "metadata": {},
     "output_type": "execute_result"
    }
   ],
   "source": [
    "grid = (0:100)*0.01\n",
    "Plots.plot(grid, map(x -> mse(x, 0.32), grid),linewidth=1,title=\"MSE\", label=\"MSE\")"
   ]
  },
  {
   "cell_type": "code",
   "execution_count": 102,
   "metadata": {},
   "outputs": [
    {
     "data": {
      "image/png": "[encoded data removed]"
     },
     "execution_count": 102,
     "metadata": {},
     "output_type": "execute_result"
    }
   ],
   "source": [
    "grid = (0:100)*0.01\n",
    "Plots.plot(grid, map(dmse, grid),linewidth=1,title=\"dMSE\", label=\"dMSE\", color=\"red\")"
   ]
  },
  {
   "cell_type": "markdown",
   "metadata": {},
   "source": [
    "Notice how it is negative below 0.8 and positive above. So if we update our weight using the slope we can close in on the correct weight."
   ]
  },
  {
   "cell_type": "code",
   "execution_count": 60,
   "metadata": {},
   "outputs": [
    {
     "name": "stdout",
     "output_type": "stream",
     "text": [
      "(1) Weight 0.868 MSE 0.0007398400000000001\n",
      "(2) Weight 0.84624 MSE 0.0003421020160000005\n",
      "(3) Weight 0.8314432 MSE 0.0001581879721984006\n",
      "(4) Weight 0.821381376 MSE 7.31461183445406e-5\n",
      "(5) Weight 0.81453933568 MSE 3.382276512251596e-5\n",
      "(6) Weight 0.8098867482624 MSE 1.5639646592651166e-5\n",
      "(7) Weight 0.806722988818432 MSE 7.231772584441816e-6\n",
      "(8) Weight 0.8045716323965337 MSE 3.3439716430459365e-6\n",
      "(9) Weight 0.803108710029643 MSE 1.5462524877444742e-6\n",
      "(10) Weight 0.8021139228201573 MSE 7.1498715033312e-7\n"
     ]
    }
   ],
   "source": [
    "w = 0.9\n",
    "\n",
    "for i = 1:10\n",
    "    w -= dmse(w)\n",
    "    np = prediction(input, w)\n",
    "    print(\"($(i)) Weight $(w) MSE $(mse(np, goal))\\n\")\n",
    "end"
   ]
  },
  {
   "cell_type": "markdown",
   "metadata": {},
   "source": [
    "Typically we will also scale, to avoid problems with overshooting. (In this example it will slow things down, but in more realistic scenarios this kind of adjustment is vital.)"
   ]
  },
  {
   "cell_type": "code",
   "execution_count": 97,
   "metadata": {},
   "outputs": [
    {
     "name": "stdout",
     "output_type": "stream",
     "text": [
      "(1) Weight 0.8968 MSE 0.0014992384000000025\n",
      "(2) Weight 0.8937024 MSE 0.0014048223625216006\n",
      "(3) Weight 0.8907039232 MSE 0.0013163522694194423\n",
      "(4) Weight 0.8878013976576 MSE 0.0012334536689004821\n",
      "(5) Weight 0.8849917529325568 MSE 0.0011557756906478047\n",
      "(6) Weight 0.882272016838715 MSE 0.00108298956075357\n",
      "(7) Weight 0.8796393122998761 MSE 0.001014787210175554\n",
      "(8) Weight 0.8770908543062801 MSE 0.0009508799708275368\n",
      "(9) Weight 0.8746239469684791 MSE 0.0008909973537847009\n",
      "(10) Weight 0.8722359806654878 MSE 0.000834885904432756\n"
     ]
    }
   ],
   "source": [
    "w = 0.9\n",
    "a = 0.1\n",
    "\n",
    "for i = 1:10\n",
    "    w -= a * dmse(w)\n",
    "    np = prediction(input, w)\n",
    "    print(\"($(i)) Weight $(w) MSE $(mse(np, goal))\\n\")\n",
    "end"
   ]
  },
  {
   "cell_type": "markdown",
   "metadata": {},
   "source": [
    "## 6 Gradient Descent (iii): Learn multiple weights\n",
    "\n",
    "So far we have only done gradient descent for a single input, but typically in deep learning we want to learn many weights at once. We'll look at that now. Let's pretend we now have 3 inputs, 3 weights (to learn) and one output.\n",
    "\n",
    "$g(x_1, x_2, x_3) = x_1 w_1 + x_2 w_2 + x_3 w_3$\n",
    "\n",
    "Then the (mean squared) error is:\n",
    "\n",
    "$mse = (x_1 w_1 + x_2 w_2 + x_3 w_3 - y)^2$\n",
    "\n",
    "The (partial) derivative is basically the same as before (well the constant term is different).\n",
    "\n",
    "$\\frac{\\partial mse}{\\partial w_1} = 2x_1^2 w_1 + C$ \n",
    "\n",
    "where\n",
    "\n",
    "$C = 2 x_1 (x_2 w_2 + x_3 w_ 3 - y)$\n",
    "\n",
    "Now we can follow the same process as before: for some set of weights, calculate partial derivatives of error for each, then move along the slope. If the model and data are nice, this will work well, closing in on an optimum set of weights.\n",
    "\n",
    "Let's implement that. Again let's fake and fix everything. Let's again make the target output $y = 0.8$ and inputs $0.2$, $0.4$ and $0.6$."
   ]
  },
  {
   "cell_type": "code",
   "execution_count": null,
   "metadata": {},
   "outputs": [],
   "source": []
  },
  {
   "cell_type": "code",
   "execution_count": 143,
   "metadata": {},
   "outputs": [
    {
     "data": {
      "text/plain": [
       "0.8"
      ]
     },
     "execution_count": 143,
     "metadata": {},
     "output_type": "execute_result"
    }
   ],
   "source": [
    "weights = [0.3, 0.1, 0.4]\n",
    "input = [0.2, 0.4, 0.6]\n",
    "goal = 0.8"
   ]
  },
  {
   "cell_type": "code",
   "execution_count": 144,
   "metadata": {},
   "outputs": [
    {
     "data": {
      "text/plain": [
       "pdmse (generic function with 1 method)"
      ]
     },
     "execution_count": 144,
     "metadata": {},
     "output_type": "execute_result"
    }
   ],
   "source": [
    "function pdmse(i)\n",
    "    # get the weights/input excluding current index\n",
    "    w_excl = weights[1:end .!= i]\n",
    "    i_excl = input[1:end .!= i]\n",
    "     c = 2 * input[i] * (dot(w_excl, i_excl) - goal)\n",
    "     2 * weights[i] * input[i] ^ 2 + c\n",
    "end"
   ]
  },
  {
   "cell_type": "code",
   "execution_count": 145,
   "metadata": {},
   "outputs": [
    {
     "data": {
      "text/plain": [
       "prediction (generic function with 1 method)"
      ]
     },
     "execution_count": 145,
     "metadata": {},
     "output_type": "execute_result"
    }
   ],
   "source": [
    "prediction(ipt, weights) = dot(ipt, weights)"
   ]
  },
  {
   "cell_type": "code",
   "execution_count": 146,
   "metadata": {},
   "outputs": [
    {
     "data": {
      "text/plain": [
       "0.33999999999999997"
      ]
     },
     "execution_count": 146,
     "metadata": {},
     "output_type": "execute_result"
    }
   ],
   "source": [
    "prediction(input, weights)"
   ]
  },
  {
   "cell_type": "code",
   "execution_count": 153,
   "metadata": {},
   "outputs": [
    {
     "name": "stdout",
     "output_type": "stream",
     "text": [
      "Start with weights [0.3, 0.1, 0.4]\n",
      "(1) Weights [0.3184, 0.136506, 0.453006] MSE 0.1680295540316265\n",
      "(2) Weights [0.334797, 0.169036, 0.500241] MSE 0.13343067593604574\n",
      "(3) Weights [0.349408, 0.198025, 0.542332] MSE 0.10595603483777045\n",
      "(4) Weights [0.362428, 0.223858, 0.579841] MSE 0.08413868280127618\n",
      "(5) Weights [0.374031, 0.246877, 0.613266] MSE 0.06681373037763197\n",
      "(6) Weights [0.38437, 0.26739, 0.643051] MSE 0.053056149898595646\n",
      "(7) Weights [0.393584, 0.28567, 0.669593] MSE 0.0421313856620801\n",
      "(8) Weights [0.401794, 0.30196, 0.693245] MSE 0.03345613394864732\n",
      "(9) Weights [0.409111, 0.316475, 0.714322] MSE 0.026567198804411975\n",
      "(10) Weights [0.41563, 0.329411, 0.733104] MSE 0.021096760713491952\n",
      "(11) Weights [0.42144, 0.340937, 0.749841] MSE 0.016752737685255172\n",
      "(12) Weights [0.426618, 0.351209, 0.764756] MSE 0.0133031901798783\n",
      "(13) Weights [0.431231, 0.360362, 0.778046] MSE 0.010563937207574954\n",
      "(14) Weights [0.435342, 0.368519, 0.78989] MSE 0.008388722390391887\n",
      "(15) Weights [0.439006, 0.375788, 0.800444] MSE 0.006661404925107125\n",
      "(16) Weights [0.442271, 0.382265, 0.809849] MSE 0.005289758500897126\n",
      "(17) Weights [0.44518, 0.388037, 0.818229] MSE 0.004200547078642465\n",
      "(18) Weights [0.447772, 0.39318, 0.825698] MSE 0.003335614613956265\n",
      "(19) Weights [0.450083, 0.397764, 0.832353] MSE 0.0026487799433102437\n",
      "(20) Weights [0.452141, 0.401848, 0.838283] MSE 0.002103371042544119\n"
     ]
    }
   ],
   "source": [
    "weights = [0.3, 0.1, 0.4]\n",
    "input = [0.2, 0.4, 0.6]\n",
    "goal = 0.8\n",
    "\n",
    "print(\"Start with weights $(weights)\\n\")\n",
    "for i = 1:20\n",
    "    for (idx, w) in enumerate(weights)\n",
    "       weights[idx] -= 0.1 * pdmse(idx)\n",
    "    end\n",
    "    \n",
    "    np = dot(input, weights)\n",
    "    print(\"($(i)) Weights $(weights) MSE $(mse(np, goal))\\n\")\n",
    "end"
   ]
  },
  {
   "cell_type": "markdown",
   "metadata": {},
   "source": []
  }
 ],
 "metadata": {
  "kernelspec": {
   "display_name": "Julia 1.1.0",
   "language": "julia",
   "name": "julia-1.1"
  },
  "language_info": {
   "file_extension": ".jl",
   "mimetype": "application/julia",
   "name": "julia",
   "version": "1.1.0"
  }
 },
 "nbformat": 4,
 "nbformat_minor": 2
}
